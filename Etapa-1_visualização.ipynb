{
  "metadata": {
    "kernelspec": {
      "name": "python",
      "display_name": "Python (Pyodide)",
      "language": "python"
    },
    "language_info": {
      "codemirror_mode": {
        "name": "python",
        "version": 3
      },
      "file_extension": ".py",
      "mimetype": "text/x-python",
      "name": "python",
      "nbconvert_exporter": "python",
      "pygments_lexer": "ipython3",
      "version": "3.8"
    }
  },
  "nbformat_minor": 5,
  "nbformat": 4,
  "cells": [
    {
      "id": "5c88cd13-dcf1-4ae5-9d55-919cce6f2869",
      "cell_type": "markdown",
      "source": "# Visualização dos Resultados do Algoritmo de Logística\n\nEste notebook apresenta a visualização dos resultados obtidos a partir do processamento do arquivo de entrada.  \nAqui serão exibidas as métricas calculadas, conforme a etapa 1 do trabalho prático, que incluem:\n- Quantidade de vértices, arestas e arcos\n- Vértices, arestas e arcos requeridos\n- Densidade do grafo\n- Grau mínimo e máximo\n- Intermediação\n- Caminho médio e diâmetro\n\n*Observação:* Nesta etapa, os dados de entrada lidos são os mesmos gerados pela execução do código C++ e salvos em um arquivo TXT.\n",
      "metadata": {}
    },
    {
      "id": "faaba669-a245-439d-89b0-a0fbff2e51a7",
      "cell_type": "markdown",
      "source": "## Contextualização\n\nNo trabalho prático, o arquivo de entrada original contém todas as informações necessárias para a construção e análise do grafo.  \nNo entanto, nesta etapa, o arquivo que utilizaremos já contém apenas as métricas calculadas, e não a estrutura completa do grafo.  \nPortanto, a visualização se concentrará na exibição dos resultados agregados.\n\n## Objetivos\n- Ler o arquivo TXT com as métricas.\n- Exibir os dados de forma organizada.\n- Permitir a verificação dos resultados obtidos pelo algoritmo.\n",
      "metadata": {}
    },
    {
      "id": "899f0755-314b-4f75-869a-b87073ddd24c",
      "cell_type": "markdown",
      "source": "# Criação de uma função para tratar os dados obtidos\n\nNesta célula é criada uma função que lê os dados de um arquivo .txt e cria uma representação em dicionário, convertendo os valores numéricos para tipos apropriados. Realizando o tratamento dos dados recebidos e os armazenando.",
      "metadata": {}
    },
    {
      "id": "800f02ec-c6f7-4ca1-a0d9-2c478e79e2e6",
      "cell_type": "code",
      "source": "def parse_metrics(filename):\n    metrics = {}\n    current_key = None\n\n    with open(filename, 'r', encoding='utf-8') as file:\n        for line in file:\n            line = line.rstrip('\\n')\n            if not line.strip():\n                continue\n\n            if line.startswith(\" \") or line.startswith(\"\\t\"):\n                if current_key is not None:\n                    parts = line.strip().split(\":\", 1)\n                    if len(parts) == 2:\n                        subkey = parts[0].strip()\n                        subvalue = parts[1].strip()\n                        try:\n                            if \".\" in subvalue:\n                                subvalue = float(subvalue)\n                            else:\n                                subvalue = int(subvalue)\n                        except ValueError:\n                            pass\n                        if not isinstance(metrics[current_key], dict):\n                            metrics[current_key] = {}\n                        metrics[current_key][subkey] = subvalue\n                continue\n\n            parts = line.split(\":\", 1)\n            if len(parts) == 2:\n                key = parts[0].strip()\n                value = parts[1].strip()\n                if not value:\n                    metrics[key] = {}\n                    current_key = key\n                else:\n                    if value.endswith(\"%\"):\n                        value = value[:-1].strip()\n                    try:\n                        if '.' in value:\n                            value = float(value)\n                        else:\n                            value = int(value)\n                    except ValueError:\n                        pass\n                    metrics[key] = value\n                    current_key = key\n            else:\n                continue\n    return metrics\n",
      "metadata": {
        "trusted": true
      },
      "outputs": [],
      "execution_count": 1
    },
    {
      "id": "7eb09ede-9d10-46e5-8601-cdb8b6cb0b18",
      "cell_type": "markdown",
      "source": "# Utilização da função e Visualização das métricas\n\nAqui a função definida anteriormente é chamada e recebe como parâmetro o arquivo resultados.txt que contém os dados obtidos através dos cálculos, e em seguida as suas métricas são exibidas.",
      "metadata": {}
    },
    {
      "id": "0a605a99-08ea-426f-b742-22ccd277668e",
      "cell_type": "code",
      "source": "# Chama a função de parsing passando o nome do arquivo\ndados = parse_metrics(\"results/resultados.txt\")\n\n# Exibe os dados lidos\nfor chave, valor in dados.items():\n    print(f\"{chave}: {valor}\")\n",
      "metadata": {
        "trusted": true
      },
      "outputs": [
        {
          "name": "stdout",
          "output_type": "stream",
          "text": "1. Vértices: 43\n2. Arestas: 2\n3. Arcos: 129\n4. Vértices requeridos: 38\n5. Arestas requeridas: 2\n6. Arcos requeridos: 33\n7. Densidade: 7.36\n8. Grau mínimo: 2\n9. Grau máximo: 8\n10. Intermediação: {'1': 0.0, '10': 41.0, '11': 96.0, '12': 261.0, '13': 317.0, '14': 295.0, '15': 498.0, '16': 405.0, '17': 371.0, '18': 155.0, '19': 22.0, '2': 30.0, '20': 85.0, '21': 70.0, '22': 233.0, '23': 443.0, '24': 230.0, '25': 87.0, '26': 141.0, '27': 71.0, '28': 81.0, '29': 88.0, '3': 56.0, '30': 280.0, '31': 309.0, '32': 70.0, '33': 295.0, '34': 308.0, '35': 129.0, '36': 58.0, '37': 0.0, '38': 97.0, '39': 147.0, '4': 150.0, '40': 81.0, '41': 85.0, '42': 81.0, '43': 12.0, '5': 171.0, '6': 176.0, '7': 71.0, '8': 7.0, '9': 123.0}\n11. Caminho médio: 130.03\n12. Diâmetro: 334\n"
        }
      ],
      "execution_count": 2
    },
    {
      "id": "f6a96436-f12a-4a3e-81c1-afbc90de35af",
      "cell_type": "markdown",
      "source": "## Conclusão\n\nNeste notebook, os resultados do pré-processamento dos dados foram apresentados de forma organizada.  \nA abordagem permite a visualização rápida das principais métricas calculadas pelo algoritmo, facilitando a análise dos resultados.  \nPara uma representação completa do grafo, seria necessário ter acesso aos dados originais (nós, arestas e arcos) que permitiriam reconstruir a estrutura da rede.\n",
      "metadata": {}
    }
  ]
}