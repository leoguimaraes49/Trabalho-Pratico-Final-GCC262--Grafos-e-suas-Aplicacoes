{
  "cells": [
    {
      "cell_type": "markdown",
      "id": "5c88cd13-dcf1-4ae5-9d55-919cce6f2869",
      "metadata": {},
      "source": [
        "# Visualização dos Resultados do Algoritmo de Logística\n",
        "\n",
        "Este notebook apresenta a visualização dos resultados obtidos a partir do processamento do arquivo de entrada.  \n",
        "Aqui serão exibidas as métricas calculadas, conforme a etapa 1 do trabalho prático, que incluem:\n",
        "- Quantidade de vértices, arestas e arcos\n",
        "- Vértices, arestas e arcos requeridos\n",
        "- Densidade do grafo\n",
        "- Grau mínimo e máximo\n",
        "- Intermediação\n",
        "- Caminho médio e diâmetro\n",
        "\n",
        "*Observação:* Nesta etapa, os dados de entrada lidos são os mesmos gerados pela execução do código C++ e salvos em um arquivo TXT.\n"
      ]
    },
    {
      "cell_type": "markdown",
      "id": "faaba669-a245-439d-89b0-a0fbff2e51a7",
      "metadata": {},
      "source": [
        "## Contextualização\n",
        "\n",
        "No trabalho prático, o arquivo de entrada original contém todas as informações necessárias para a construção e análise do grafo.  \n",
        "No entanto, nesta etapa, o arquivo que utilizaremos já contém apenas as métricas calculadas, e não a estrutura completa do grafo.  \n",
        "Portanto, a visualização se concentrará na exibição dos resultados agregados.\n",
        "\n",
        "## Objetivos\n",
        "- Ler o arquivo TXT com as métricas.\n",
        "- Exibir os dados de forma organizada.\n",
        "- Permitir a verificação dos resultados obtidos pelo algoritmo.\n"
      ]
    },
    {
      "cell_type": "markdown",
      "id": "899f0755-314b-4f75-869a-b87073ddd24c",
      "metadata": {},
      "source": [
        "# Criação de uma função para tratar os dados obtidos\n",
        "\n",
        "Nesta célula é criada uma função que lê os dados de um arquivo .txt e cria uma representação em dicionário, convertendo os valores numéricos para tipos apropriados. Realizando o tratamento dos dados recebidos e os armazenando."
      ]
    },
    {
      "cell_type": "code",
      "execution_count": null,
      "id": "800f02ec-c6f7-4ca1-a0d9-2c478e79e2e6",
      "metadata": {
        "trusted": true
      },
      "outputs": [],
      "source": [
        "def parse_metrics(filename):\n",
        "    metrics = {}\n",
        "    current_key = None\n",
        "\n",
        "    with open(filename, 'r', encoding='utf-8') as file:\n",
        "        for line in file:\n",
        "            line = line.rstrip('\\n')\n",
        "            if not line.strip():\n",
        "                continue\n",
        "\n",
        "            if line.startswith(\" \") or line.startswith(\"\\t\"):\n",
        "                if current_key is not None:\n",
        "                    parts = line.strip().split(\":\", 1)\n",
        "                    if len(parts) == 2:\n",
        "                        subkey = parts[0].strip()\n",
        "                        subvalue = parts[1].strip()\n",
        "                        try:\n",
        "                            if \".\" in subvalue:\n",
        "                                subvalue = float(subvalue)\n",
        "                            else:\n",
        "                                subvalue = int(subvalue)\n",
        "                        except ValueError:\n",
        "                            pass\n",
        "                        if not isinstance(metrics[current_key], dict):\n",
        "                            metrics[current_key] = {}\n",
        "                        metrics[current_key][subkey] = subvalue\n",
        "                continue\n",
        "\n",
        "            parts = line.split(\":\", 1)\n",
        "            if len(parts) == 2:\n",
        "                key = parts[0].strip()\n",
        "                value = parts[1].strip()\n",
        "                if not value:\n",
        "                    metrics[key] = {}\n",
        "                    current_key = key\n",
        "                else:\n",
        "                    if value.endswith(\"%\"):\n",
        "                        value = value[:-1].strip()\n",
        "                    try:\n",
        "                        if '.' in value:\n",
        "                            value = float(value)\n",
        "                        else:\n",
        "                            value = int(value)\n",
        "                    except ValueError:\n",
        "                        pass\n",
        "                    metrics[key] = value\n",
        "                    current_key = key\n",
        "            else:\n",
        "                continue\n",
        "    return metrics\n"
      ]
    },
    {
      "cell_type": "markdown",
      "id": "7eb09ede-9d10-46e5-8601-cdb8b6cb0b18",
      "metadata": {},
      "source": [
        "# Utilização da função e Visualização das métricas\n",
        "\n",
        "Aqui a função definida anteriormente é chamada e recebe como parâmetro o arquivo resultados.txt que contém os dados obtidos através dos cálculos, e em seguida as suas métricas são exibidas."
      ]
    },
    {
      "cell_type": "code",
      "execution_count": null,
      "id": "0a605a99-08ea-426f-b742-22ccd277668e",
      "metadata": {
        "trusted": true
      },
      "outputs": [
        {
          "ename": "<class 'FileNotFoundError'>",
          "evalue": "[Errno 44] No such file or directory: 'resultados.txt'",
          "output_type": "error",
          "traceback": [
            "\u001b[0;31m---------------------------------------------------------------------------\u001b[0m",
            "\u001b[0;31mFileNotFoundError\u001b[0m                         Traceback (most recent call last)",
            "Cell \u001b[0;32mIn[10], line 2\u001b[0m\n\u001b[1;32m      1\u001b[0m \u001b[38;5;66;03m# Chama a função de parsing passando o nome do arquivo\u001b[39;00m\n\u001b[0;32m----> 2\u001b[0m dados \u001b[38;5;241m=\u001b[39m \u001b[43mparse_metrics\u001b[49m\u001b[43m(\u001b[49m\u001b[38;5;124;43m\"\u001b[39;49m\u001b[38;5;124;43mresultados.txt\u001b[39;49m\u001b[38;5;124;43m\"\u001b[39;49m\u001b[43m)\u001b[49m\n\u001b[1;32m      4\u001b[0m \u001b[38;5;66;03m# Exibe os dados lidos\u001b[39;00m\n\u001b[1;32m      5\u001b[0m \u001b[38;5;28;01mfor\u001b[39;00m chave, valor \u001b[38;5;129;01min\u001b[39;00m dados\u001b[38;5;241m.\u001b[39mitems():\n",
            "Cell \u001b[0;32mIn[9], line 5\u001b[0m, in \u001b[0;36mparse_metrics\u001b[0;34m(filename)\u001b[0m\n\u001b[1;32m      2\u001b[0m metrics \u001b[38;5;241m=\u001b[39m {}\n\u001b[1;32m      3\u001b[0m current_key \u001b[38;5;241m=\u001b[39m \u001b[38;5;28;01mNone\u001b[39;00m\n\u001b[0;32m----> 5\u001b[0m \u001b[38;5;28;01mwith\u001b[39;00m \u001b[38;5;28;43mopen\u001b[39;49m\u001b[43m(\u001b[49m\u001b[43mfilename\u001b[49m\u001b[43m,\u001b[49m\u001b[43m \u001b[49m\u001b[38;5;124;43m'\u001b[39;49m\u001b[38;5;124;43mr\u001b[39;49m\u001b[38;5;124;43m'\u001b[39;49m\u001b[43m,\u001b[49m\u001b[43m \u001b[49m\u001b[43mencoding\u001b[49m\u001b[38;5;241;43m=\u001b[39;49m\u001b[38;5;124;43m'\u001b[39;49m\u001b[38;5;124;43mutf-8\u001b[39;49m\u001b[38;5;124;43m'\u001b[39;49m\u001b[43m)\u001b[49m \u001b[38;5;28;01mas\u001b[39;00m file:\n\u001b[1;32m      6\u001b[0m     \u001b[38;5;28;01mfor\u001b[39;00m line \u001b[38;5;129;01min\u001b[39;00m file:\n\u001b[1;32m      7\u001b[0m         line \u001b[38;5;241m=\u001b[39m line\u001b[38;5;241m.\u001b[39mrstrip(\u001b[38;5;124m'\u001b[39m\u001b[38;5;130;01m\\n\u001b[39;00m\u001b[38;5;124m'\u001b[39m)\n",
            "File \u001b[0;32m/lib/python3.12/site-packages/IPython/core/interactiveshell.py:324\u001b[0m, in \u001b[0;36m_modified_open\u001b[0;34m(file, *args, **kwargs)\u001b[0m\n\u001b[1;32m    317\u001b[0m \u001b[38;5;28;01mif\u001b[39;00m file \u001b[38;5;129;01min\u001b[39;00m {\u001b[38;5;241m0\u001b[39m, \u001b[38;5;241m1\u001b[39m, \u001b[38;5;241m2\u001b[39m}:\n\u001b[1;32m    318\u001b[0m     \u001b[38;5;28;01mraise\u001b[39;00m \u001b[38;5;167;01mValueError\u001b[39;00m(\n\u001b[1;32m    319\u001b[0m         \u001b[38;5;124mf\u001b[39m\u001b[38;5;124m\"\u001b[39m\u001b[38;5;124mIPython won\u001b[39m\u001b[38;5;124m'\u001b[39m\u001b[38;5;124mt let you open fd=\u001b[39m\u001b[38;5;132;01m{\u001b[39;00mfile\u001b[38;5;132;01m}\u001b[39;00m\u001b[38;5;124m by default \u001b[39m\u001b[38;5;124m\"\u001b[39m\n\u001b[1;32m    320\u001b[0m         \u001b[38;5;124m\"\u001b[39m\u001b[38;5;124mas it is likely to crash IPython. If you know what you are doing, \u001b[39m\u001b[38;5;124m\"\u001b[39m\n\u001b[1;32m    321\u001b[0m         \u001b[38;5;124m\"\u001b[39m\u001b[38;5;124myou can use builtins\u001b[39m\u001b[38;5;124m'\u001b[39m\u001b[38;5;124m open.\u001b[39m\u001b[38;5;124m\"\u001b[39m\n\u001b[1;32m    322\u001b[0m     )\n\u001b[0;32m--> 324\u001b[0m \u001b[38;5;28;01mreturn\u001b[39;00m \u001b[43mio_open\u001b[49m\u001b[43m(\u001b[49m\u001b[43mfile\u001b[49m\u001b[43m,\u001b[49m\u001b[43m \u001b[49m\u001b[38;5;241;43m*\u001b[39;49m\u001b[43margs\u001b[49m\u001b[43m,\u001b[49m\u001b[43m \u001b[49m\u001b[38;5;241;43m*\u001b[39;49m\u001b[38;5;241;43m*\u001b[39;49m\u001b[43mkwargs\u001b[49m\u001b[43m)\u001b[49m\n",
            "\u001b[0;31mFileNotFoundError\u001b[0m: [Errno 44] No such file or directory: 'resultados.txt'"
          ]
        }
      ],
      "source": [
        "# Chama a função de parsing passando o nome do arquivo\n",
        "dados = parse_metrics(\"results/resultados.txt\")\n",
        "\n",
        "# Exibe os dados lidos\n",
        "for chave, valor in dados.items():\n",
        "    print(f\"{chave}: {valor}\")\n"
      ]
    },
    {
      "cell_type": "markdown",
      "id": "f6a96436-f12a-4a3e-81c1-afbc90de35af",
      "metadata": {},
      "source": [
        "## Conclusão\n",
        "\n",
        "Neste notebook, os resultados do pré-processamento dos dados foram apresentados de forma organizada.  \n",
        "A abordagem permite a visualização rápida das principais métricas calculadas pelo algoritmo, facilitando a análise dos resultados.  \n",
        "Para uma representação completa do grafo, seria necessário ter acesso aos dados originais (nós, arestas e arcos) que permitiriam reconstruir a estrutura da rede.\n"
      ]
    }
  ],
  "metadata": {
    "kernelspec": {
      "display_name": "Python (Pyodide)",
      "language": "python",
      "name": "python"
    },
    "language_info": {
      "codemirror_mode": {
        "name": "python",
        "version": 3
      },
      "file_extension": ".py",
      "mimetype": "text/x-python",
      "name": "python",
      "nbconvert_exporter": "python",
      "pygments_lexer": "ipython3",
      "version": "3.8"
    }
  },
  "nbformat": 4,
  "nbformat_minor": 5
}
